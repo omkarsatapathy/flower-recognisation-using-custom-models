{
 "cells": [
  {
   "cell_type": "code",
   "execution_count": 1,
   "metadata": {},
   "outputs": [],
   "source": [
    "import tensorflow as tf\n",
    "from tensorflow import keras \n",
    "from tensorflow.keras.preprocessing.image import ImageDataGenerator"
   ]
  },
  {
   "cell_type": "code",
   "execution_count": 2,
   "metadata": {},
   "outputs": [],
   "source": [
    "train_dir = r'#path'\n",
    "validation_dir = r'#path",
    "dim = 80"
   ]
  },
  {
   "cell_type": "code",
   "execution_count": 3,
   "metadata": {},
   "outputs": [
    {
     "name": "stdout",
     "output_type": "stream",
     "text": [
      "Found 3581 images belonging to 36 classes.\n",
      "Found 359 images belonging to 36 classes.\n"
     ]
    }
   ],
   "source": [
    "train_datagen = ImageDataGenerator(\n",
    "      rescale=1./255,\n",
    "      rotation_range=30,\n",
    "      width_shift_range=0.3,\n",
    "      height_shift_range=0.3,\n",
    "      horizontal_flip=True,\n",
    "      fill_mode='nearest',)\n",
    "      #validation_split=0.2)\n",
    "validation_datagen = ImageDataGenerator(rescale=1./255)\n",
    "train_generator = train_datagen.flow_from_directory(\n",
    "        train_dir,\n",
    "        target_size=(dim,dim),\n",
    "        batch_size = 10,\n",
    "        # class_mode='categorical',\n",
    "        shuffle=True)\n",
    "validation_generator = validation_datagen.flow_from_directory(\n",
    "        validation_dir,\n",
    "        target_size=(dim,dim),\n",
    "        batch_size=10,\n",
    "        # class_mode='categorical',\n",
    "        shuffle=False)\n"
   ]
  },
  {
   "cell_type": "code",
   "execution_count": 4,
   "metadata": {},
   "outputs": [],
   "source": [
    "end_model = keras.Sequential([ \n",
    "      keras.layers.Flatten(), \n",
    "      keras.layers.Dense(300, activation='softmax')\n",
    "])"
   ]
  },
  {
   "cell_type": "code",
   "execution_count": 5,
   "metadata": {},
   "outputs": [],
   "source": [
    "inception_model = tf.keras.applications.InceptionV3(include_top=False, weights='imagenet', input_shape=(dim,dim,3))\n",
    "for layers in inception_model.layers:\n",
    "      layers.trainable = False"
   ]
  },
  {
   "cell_type": "code",
   "execution_count": 6,
   "metadata": {},
   "outputs": [],
   "source": [
    "model = keras.Sequential([ \n",
    "      inception_model, end_model\n",
    "])\n",
    "\n",
    "\n",
    "model.compile(optimizer='Adam', loss='categorical_crossentropy', metrics = (['accuracy']))"
   ]
  },
  {
   "cell_type": "code",
   "execution_count": 7,
   "metadata": {},
   "outputs": [
    {
     "name": "stdout",
     "output_type": "stream",
     "text": [
      "using GPU\n"
     ]
    }
   ],
   "source": [
    "gpus = tf.config.experimental.list_physical_devices('GPU')\n",
    "if gpus:\n",
    "    try:\n",
    "        tf.config.experimental.set_visible_devices(gpus[0], 'GPU')\n",
    "        print(\"using GPU\")\n",
    "    except RuntimeError as e:\n",
    "        print(e)\n",
    "\n",
    "# with tf.device('/GPU:0'):\n",
    "    # history = model.fit(train_generator, epochs=5, validation_data=validation_generator,batch_size=15 )"
   ]
  },
  {
   "cell_type": "code",
   "execution_count": null,
   "metadata": {},
   "outputs": [],
   "source": []
  },
  {
   "cell_type": "code",
   "execution_count": 8,
   "metadata": {},
   "outputs": [],
   "source": [
    "from keras.layers import Input, Conv2D, Flatten, Dense, MaxPool2D\n",
    "from keras.models import Model"
   ]
  },
  {
   "cell_type": "code",
   "execution_count": 11,
   "metadata": {},
   "outputs": [
    {
     "name": "stdout",
     "output_type": "stream",
     "text": [
      "Model: \"model_1\"\n",
      "__________________________________________________________________________________________________\n",
      "Layer (type)                    Output Shape         Param #     Connected to                     \n",
      "==================================================================================================\n",
      "input_3 (InputLayer)            [(None, 80, 80, 3)]  0                                            \n",
      "__________________________________________________________________________________________________\n",
      "conv2d_100 (Conv2D)             (None, 76, 76, 64)   4864        input_3[0][0]                    \n",
      "__________________________________________________________________________________________________\n",
      "max_pooling2d_10 (MaxPooling2D) (None, 38, 38, 64)   0           conv2d_100[0][0]                 \n",
      "__________________________________________________________________________________________________\n",
      "conv2d_101 (Conv2D)             (None, 35, 35, 50)   51250       max_pooling2d_10[0][0]           \n",
      "__________________________________________________________________________________________________\n",
      "conv2d_102 (Conv2D)             (None, 34, 34, 30)   48030       max_pooling2d_10[0][0]           \n",
      "__________________________________________________________________________________________________\n",
      "max_pooling2d_11 (MaxPooling2D) (None, 17, 17, 50)   0           conv2d_101[0][0]                 \n",
      "__________________________________________________________________________________________________\n",
      "max_pooling2d_12 (MaxPooling2D) (None, 17, 17, 30)   0           conv2d_102[0][0]                 \n",
      "__________________________________________________________________________________________________\n",
      "concatenate_4 (Concatenate)     (None, 17, 17, 80)   0           max_pooling2d_11[0][0]           \n",
      "                                                                 max_pooling2d_12[0][0]           \n",
      "__________________________________________________________________________________________________\n",
      "conv2d_103 (Conv2D)             (None, 13, 13, 50)   100050      concatenate_4[0][0]              \n",
      "__________________________________________________________________________________________________\n",
      "max_pooling2d_13 (MaxPooling2D) (None, 6, 6, 50)     0           conv2d_103[0][0]                 \n",
      "__________________________________________________________________________________________________\n",
      "conv2d_104 (Conv2D)             (None, 3, 3, 50)     40050       max_pooling2d_13[0][0]           \n",
      "__________________________________________________________________________________________________\n",
      "conv2d_105 (Conv2D)             (None, 2, 2, 30)     37530       max_pooling2d_13[0][0]           \n",
      "__________________________________________________________________________________________________\n",
      "max_pooling2d_14 (MaxPooling2D) (None, 1, 1, 50)     0           conv2d_104[0][0]                 \n",
      "__________________________________________________________________________________________________\n",
      "max_pooling2d_15 (MaxPooling2D) (None, 1, 1, 30)     0           conv2d_105[0][0]                 \n",
      "__________________________________________________________________________________________________\n",
      "concatenate_5 (Concatenate)     (None, 1, 1, 80)     0           max_pooling2d_14[0][0]           \n",
      "                                                                 max_pooling2d_15[0][0]           \n",
      "__________________________________________________________________________________________________\n",
      "flatten_2 (Flatten)             (None, 80)           0           concatenate_5[0][0]              \n",
      "__________________________________________________________________________________________________\n",
      "dense_2 (Dense)                 (None, 36)           2916        flatten_2[0][0]                  \n",
      "==================================================================================================\n",
      "Total params: 284,690\n",
      "Trainable params: 284,690\n",
      "Non-trainable params: 0\n",
      "__________________________________________________________________________________________________\n"
     ]
    }
   ],
   "source": [
    "input_layer = Input(shape = (dim,dim,3))\n",
    "x = Conv2D(64, (5,5), activation='relu')(input_layer)\n",
    "x = MaxPool2D(2,2)(x)\n",
    "x_1 = Conv2D(50, (4,4), activation='relu')(x)\n",
    "x_2 = Conv2D(30, (5,5), activation='relu')(x)\n",
    "x_1_1 = MaxPool2D(2,2)(x_1)\n",
    "x_1_2 = MaxPool2D(2,2)(x_2)\n",
    "x = keras.layers.Concatenate()([x_1_1, x_1_2])\n",
    "x = (Conv2D(50, (5,5), activation='relu'))(x)\n",
    "x = (MaxPool2D(2,2))(x)\n",
    "x_1 = Conv2D(50, (4,4), activation='relu')(x)\n",
    "x_2 = Conv2D(30, (5,5), activation='relu')(x)\n",
    "x_1_1 = MaxPool2D(2,2)(x_1)\n",
    "x_1_2 = MaxPool2D(2,2)(x_2)\n",
    "x = keras.layers.Concatenate()([x_1_1, x_1_2])\n",
    "x = keras.layers.Flatten()(x)\n",
    "x = Dense(36, activation='softmax')(x)\n",
    "\n",
    "model = Model(inputs = input_layer, outputs = x)\n",
    "model.compile(optimizer='Adam', loss = tf.keras.losses.CategoricalCrossentropy(), metrics=['accuracy'])\n",
    "model.summary()\n"
   ]
  },
  {
   "cell_type": "code",
   "execution_count": 13,
   "metadata": {},
   "outputs": [
    {
     "name": "stdout",
     "output_type": "stream",
     "text": [
      "Epoch 1/30\n",
      "359/359 [==============================] - 115s 321ms/step - loss: 2.3045 - accuracy: 0.3156 - val_loss: 1.5538 - val_accuracy: 0.4958\n",
      "Epoch 2/30\n",
      "359/359 [==============================] - 118s 329ms/step - loss: 2.2906 - accuracy: 0.3223 - val_loss: 1.5297 - val_accuracy: 0.5209\n",
      "Epoch 3/30\n",
      "359/359 [==============================] - 119s 332ms/step - loss: 2.2335 - accuracy: 0.3401 - val_loss: 1.6131 - val_accuracy: 0.5460\n",
      "Epoch 4/30\n",
      "359/359 [==============================] - 119s 332ms/step - loss: 2.2131 - accuracy: 0.3404 - val_loss: 1.4551 - val_accuracy: 0.5320\n",
      "Epoch 5/30\n",
      "359/359 [==============================] - 118s 329ms/step - loss: 2.1979 - accuracy: 0.3460 - val_loss: 1.5241 - val_accuracy: 0.5181\n",
      "Epoch 6/30\n",
      "359/359 [==============================] - 119s 333ms/step - loss: 2.1925 - accuracy: 0.3398 - val_loss: 1.4985 - val_accuracy: 0.5432\n",
      "Epoch 7/30\n",
      "359/359 [==============================] - 119s 331ms/step - loss: 2.1442 - accuracy: 0.3614 - val_loss: 1.4271 - val_accuracy: 0.5376\n",
      "Epoch 8/30\n",
      "359/359 [==============================] - 119s 333ms/step - loss: 2.1351 - accuracy: 0.3535 - val_loss: 1.4875 - val_accuracy: 0.5460\n",
      "Epoch 9/30\n",
      "359/359 [==============================] - 120s 334ms/step - loss: 2.1241 - accuracy: 0.3644 - val_loss: 1.4128 - val_accuracy: 0.5432\n",
      "Epoch 10/30\n",
      "359/359 [==============================] - 121s 337ms/step - loss: 2.1046 - accuracy: 0.3655 - val_loss: 1.3960 - val_accuracy: 0.5153\n",
      "Epoch 11/30\n",
      "359/359 [==============================] - 120s 334ms/step - loss: 2.0931 - accuracy: 0.3734 - val_loss: 1.2984 - val_accuracy: 0.5961\n",
      "Epoch 12/30\n",
      "359/359 [==============================] - 120s 334ms/step - loss: 2.0637 - accuracy: 0.3898 - val_loss: 1.3278 - val_accuracy: 0.5543\n",
      "Epoch 13/30\n",
      "359/359 [==============================] - 105s 293ms/step - loss: 2.0638 - accuracy: 0.3898 - val_loss: 1.3822 - val_accuracy: 0.5599\n",
      "Epoch 14/30\n",
      "359/359 [==============================] - 101s 282ms/step - loss: 2.0510 - accuracy: 0.3957 - val_loss: 1.3608 - val_accuracy: 0.6072\n",
      "Epoch 15/30\n",
      "359/359 [==============================] - 111s 308ms/step - loss: 2.0340 - accuracy: 0.3890 - val_loss: 1.2183 - val_accuracy: 0.6295\n",
      "Epoch 16/30\n",
      "359/359 [==============================] - 100s 277ms/step - loss: 2.0004 - accuracy: 0.4030 - val_loss: 1.2252 - val_accuracy: 0.6045\n",
      "Epoch 17/30\n",
      "359/359 [==============================] - 100s 278ms/step - loss: 1.9848 - accuracy: 0.4144 - val_loss: 1.2095 - val_accuracy: 0.6295\n",
      "Epoch 18/30\n",
      "359/359 [==============================] - 113s 314ms/step - loss: 1.9726 - accuracy: 0.4052 - val_loss: 1.3767 - val_accuracy: 0.6017\n",
      "Epoch 19/30\n",
      "359/359 [==============================] - 102s 284ms/step - loss: 1.9885 - accuracy: 0.4097 - val_loss: 1.2536 - val_accuracy: 0.6017\n",
      "Epoch 20/30\n",
      "359/359 [==============================] - 101s 280ms/step - loss: 1.9667 - accuracy: 0.4150 - val_loss: 1.1373 - val_accuracy: 0.6435\n",
      "Epoch 21/30\n",
      "359/359 [==============================] - 115s 320ms/step - loss: 1.9102 - accuracy: 0.4275 - val_loss: 1.1458 - val_accuracy: 0.6407\n",
      "Epoch 22/30\n",
      "359/359 [==============================] - 106s 296ms/step - loss: 1.9208 - accuracy: 0.4197 - val_loss: 1.1228 - val_accuracy: 0.6295\n",
      "Epoch 23/30\n",
      "359/359 [==============================] - 102s 283ms/step - loss: 1.9295 - accuracy: 0.4250 - val_loss: 1.1074 - val_accuracy: 0.6323\n",
      "Epoch 24/30\n",
      "359/359 [==============================] - 103s 285ms/step - loss: 1.8899 - accuracy: 0.4247 - val_loss: 1.1176 - val_accuracy: 0.6602\n",
      "Epoch 25/30\n",
      "359/359 [==============================] - 118s 330ms/step - loss: 1.9039 - accuracy: 0.4345 - val_loss: 1.1567 - val_accuracy: 0.6518\n",
      "Epoch 26/30\n",
      "359/359 [==============================] - 102s 285ms/step - loss: 1.8797 - accuracy: 0.4407 - val_loss: 1.0318 - val_accuracy: 0.6713\n",
      "Epoch 27/30\n",
      "359/359 [==============================] - 106s 297ms/step - loss: 1.8566 - accuracy: 0.4432 - val_loss: 1.1074 - val_accuracy: 0.6351\n",
      "Epoch 28/30\n",
      "359/359 [==============================] - 104s 289ms/step - loss: 1.8730 - accuracy: 0.4457 - val_loss: 1.0580 - val_accuracy: 0.6908\n",
      "Epoch 29/30\n",
      "359/359 [==============================] - 102s 284ms/step - loss: 1.8530 - accuracy: 0.4328 - val_loss: 1.0904 - val_accuracy: 0.6212\n",
      "Epoch 30/30\n",
      "359/359 [==============================] - 100s 280ms/step - loss: 1.8528 - accuracy: 0.4496 - val_loss: 1.0755 - val_accuracy: 0.6630\n"
     ]
    }
   ],
   "source": [
    "with tf.device('/GPU:0'):\n",
    "    history = model.fit(train_generator, epochs=30, validation_data=validation_generator,batch_size=15 )"
   ]
  },
  {
   "cell_type": "code",
   "execution_count": null,
   "metadata": {},
   "outputs": [],
   "source": []
  }
 ],
 "metadata": {
  "interpreter": {
   "hash": "1baa965d5efe3ac65b79dfc60c0d706280b1da80fedb7760faf2759126c4f253"
  },
  "kernelspec": {
   "display_name": "Python 3.8.0 64-bit",
   "name": "python3"
  },
  "language_info": {
   "codemirror_mode": {
    "name": "ipython",
    "version": 3
   },
   "file_extension": ".py",
   "mimetype": "text/x-python",
   "name": "python",
   "nbconvert_exporter": "python",
   "pygments_lexer": "ipython3",
   "version": "3.8.0"
  },
  "orig_nbformat": 4
 },
 "nbformat": 4,
 "nbformat_minor": 2
}
